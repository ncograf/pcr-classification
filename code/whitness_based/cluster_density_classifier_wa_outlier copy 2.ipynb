{
 "cells": [
  {
   "cell_type": "code",
   "execution_count": 1,
   "metadata": {},
   "outputs": [],
   "source": [
    "import numpy as np\n",
    "import pandas as pd\n",
    "import sys\n",
    "sys.path.append('../libs')\n",
    "import data_lib\n",
    "import plot_lib\n",
    "import decision_lib\n",
    "from sklearn import cluster\n",
    "import validation_lib\n",
    "import transform_lib\n",
    "from icecream import ic\n",
    "import stats_lib\n",
    "\n",
    "np.random.seed(200)"
   ]
  },
  {
   "cell_type": "code",
   "execution_count": 2,
   "metadata": {},
   "outputs": [
    {
     "data": {
      "text/plain": [
       "'/Users/gzoeck/Desktop/ETH/DS Lab/dslab/code/whitness_based'"
      ]
     },
     "execution_count": 2,
     "metadata": {},
     "output_type": "execute_result"
    }
   ],
   "source": [
    "import os\n",
    "os.getcwd()"
   ]
  },
  {
   "cell_type": "code",
   "execution_count": 3,
   "metadata": {},
   "outputs": [
    {
     "name": "stdout",
     "output_type": "stream",
     "text": [
      "----------------------------------------------------------------------------------------------\n",
      "-- The following 4 groups were found\n",
      "-- They contain 40 datasets\n",
      "-- The first printed entity is the key to the returned dictionary\n",
      "-----------------------------------\n",
      "Group: ../../Data/6P-wastewater-samples-labelled/droplet-level-data/RawData\n",
      "wa-sa-D3, files: 14                     wa-sa-A3, files: 13                     wa-sa-C3, files: 13\n",
      "wa-sa-A5, files: 13                     wa-sa-A2, files: 14                     wa-sa-A1, files: 13\n",
      "wa-sa-A4, files: 13                     wa-sa-D2, files: 13                     wa-sa-B5, files: 13\n",
      "wa-sa-B1, files: 13                     wa-sa-D4, files: 13                     wa-sa-C2, files: 13\n",
      "wa-sa-C5, files: 13                     wa-sa-B2, files: 13                     wa-sa-D5, files: 14\n",
      "wa-sa-B4, files: 13                     wa-sa-B3, files: 13                     wa-sa-C4, files: 13\n",
      "wa-sa-D1, files: 13                     wa-sa-C1, files: 13                     \n",
      "-----------------------------------\n",
      "Group: ../../Data/6P-positive-dilution-series-2-labelled/droplet-level-data/RawData\n",
      "po-di-se-2-B1, files: 13                po-di-se-2-B4, files: 13                po-di-se-2-D1, files: 13\n",
      "po-di-se-2-A4, files: 13                po-di-se-2-C1, files: 13                po-di-se-2-C4, files: 13\n",
      "po-di-se-2-A1, files: 13                po-di-se-2-D4, files: 13                \n",
      "-----------------------------------\n",
      "Group: ../../Data/6P-positive-dilution-series-labelled/droplet-level-data/RawData\n",
      "po-di-se-A8, files: 13                  po-di-se-C8, files: 13                  po-di-se-B8, files: 13\n",
      "po-di-se-D8, files: 13                                                          \n",
      "-----------------------------------\n",
      "Group: ../../Data/6P-positive-dilution-series-1-labelled/droplet-level-data/RawData\n",
      "po-di-se-1-A4, files: 13                po-di-se-1-C1, files: 13                po-di-se-1-C4, files: 13\n",
      "po-di-se-1-A1, files: 13                po-di-se-1-D4, files: 13                po-di-se-1-B4, files: 13\n",
      "po-di-se-1-D1, files: 13                po-di-se-1-B1, files: 13                \n",
      "-----------------------------------\n",
      "['IAV-M_POS', 'IAV-M_NEG', 'IBV-M_POS', 'IBV-M_NEG', 'MHV_POS', 'MHV_NEG', 'RSV-N_POS', 'RSV-N_NEG', 'SARS-N1_POS', 'SARS-N1_NEG', 'SARS-N2_POS', 'SARS-N2_NEG']\n"
     ]
    }
   ],
   "source": [
    "# print available data summary\n",
    "_ = data_lib.explore_datasets(datafolder=\"../../Data\",verbose=True)\n",
    "print(data_lib.LABELS_LIST)"
   ]
  },
  {
   "cell_type": "markdown",
   "metadata": {},
   "source": [
    "### Get samples for negative control"
   ]
  },
  {
   "cell_type": "code",
   "execution_count": 4,
   "metadata": {},
   "outputs": [],
   "source": [
    "\n",
    "# compute transformation on waste water\n",
    "df_wa = data_lib.load_dataset(None, [\n",
    "                                     #\"wa-sa-A2\", \n",
    "                                     #\"wa-sa-B4\",\n",
    "                                     #\"wa-sa-C4\",\n",
    "                                     #\"wa-sa-B3\",  \n",
    "                                     #\"wa-sa-B2\",\n",
    "                                     #\"wa-sa-A5\", \n",
    "                                     \"po-di-se-1-A4\",\n",
    "                                     #\"wa-sa-C2\",\n",
    "                                     \"po-di-se-1-D4\", # Pos\n",
    "                                     #\"wa-sa-D3\", # Zero\n",
    "                                     #\"wa-sa-D4\", \n",
    "                                     #\"wa-sa-B1\", \n",
    "                                     #\"wa-sa-A4\",\n",
    "                                     #\"wa-sa-A1\", \n",
    "                                     #\"wa-sa-D2\",\n",
    "                                     #\"wa-sa-C5\", # Pos\n",
    "                                     #\"wa-sa-D5\", # Zero\n",
    "                                     #\"wa-sa-C1\",\n",
    "                                     ], datafolder=\"../../Data\")\n",
    "df_negative_control = data_lib.load_dataset([],[\n",
    "                                                \"wa-sa-D3\",\n",
    "                                                \"wa-sa-D5\"\n",
    "                                                ], datafolder=\"../../Data\")\n",
    "np_negative_control = df_negative_control.to_numpy()\n",
    "np_wa = df_wa.to_numpy(copy=True)[:,:6]\n"
   ]
  },
  {
   "cell_type": "code",
   "execution_count": 5,
   "metadata": {},
   "outputs": [
    {
     "name": "stdout",
     "output_type": "stream",
     "text": [
      "Time to remove Negatives: 0.0019829273223876953 seconds.\n",
      "Time for Clustering: 1.1384670734405518 seconds.\n",
      "Time for Whitening: 0.002087116241455078 seconds.\n",
      "Time for Cluster Features: 0.07877302169799805 seconds.\n",
      "Time for Predictions: 0.16362595558166504 seconds.\n",
      "Time for Cluster Features (2): 7.152557373046875e-07 seconds.\n",
      "Time to build Density estimation: 0.24768996238708496 seconds.\n",
      "Time to compute point probabilies: 4.741093158721924 seconds.\n"
     ]
    }
   ],
   "source": [
    "# fix clustering algorithm\n",
    "prediction_axis = ['SARS-N2_POS','SARS-N1_POS','IBV-M_POS','RSV-N_POS','IAV-M_POS','MHV_POS']\n",
    "#cluster_engine = cluster.DBSCAN(eps=700, min_samples=5)\n",
    "whitening_engine = transform_lib.WhitenTransformer()\n",
    "num_cluster = int(2**len(prediction_axis) * 3)\n",
    "cluster_engine = cluster.KMeans(n_clusters=num_cluster, n_init='auto')\n",
    "decision = decision_lib.ClusterHierarchyDensityClassifier(\n",
    "                                     negative_control=np_negative_control,\n",
    "                                     cluster_algorithm=cluster_engine,\n",
    "                                     whitening_transformer=whitening_engine,\n",
    "                                     negative_range=0.9,\n",
    "                                     eps=0.2,\n",
    "                                     contamination=0.004,\n",
    "                                     density_quantile=1,\n",
    "                                     prediction_axis=prediction_axis,\n",
    "                                     )\n",
    "df_decision = decision.predict(np_wa, verbose=1)"
   ]
  },
  {
   "cell_type": "markdown",
   "metadata": {},
   "source": [
    "## Plot the predictions\n",
    "\n",
    "- Black = True negative prediction\n",
    "- Green = True positive prediciton\n",
    "- Purple = False negative\n",
    "- Red = False positive"
   ]
  },
  {
   "cell_type": "markdown",
   "metadata": {},
   "source": [
    "#### Plot for all diseases predictions against ground truth\n",
    "\n",
    "Firs plot is in the decorrelated coordinates, whereas the second is in original coordinates"
   ]
  },
  {
   "cell_type": "code",
   "execution_count": 8,
   "metadata": {},
   "outputs": [
    {
     "name": "stdout",
     "output_type": "stream",
     "text": [
      "Outlier rate: 0.004010771787085315, n_outlier: 210\n",
      "\n",
      "Total error rate: 0.007169114233265082\n",
      " SARS-N2_POS  SARS-N1_POS  IBV-M_POS  RSV-N_POS  IAV-M_POS  MHV_POS\n",
      "     0.00253     0.005733   0.012575   0.008242   0.005525  0.00841\n",
      "\n",
      "Precision (TP / (TP + FP)): 0.9919115943899306\n",
      " SARS-N2_POS  SARS-N1_POS  IBV-M_POS  RSV-N_POS  IAV-M_POS  MHV_POS\n",
      "    0.999548      0.99375   0.973209   0.991082   0.998875 0.993209\n",
      "\n",
      "Recall / TPR (TP / (TP + FN)): 0.999732422789843\n",
      " SARS-N2_POS  SARS-N1_POS  IBV-M_POS  RSV-N_POS  IAV-M_POS  MHV_POS\n",
      "         1.0     0.999635   0.999388   0.999548   0.999902 0.999893\n",
      "\n",
      "Specificity / TNR (TN / (TN + FP)): 0.9969824074374251\n",
      " SARS-N2_POS  SARS-N1_POS  IBV-M_POS  RSV-N_POS  IAV-M_POS  MHV_POS\n",
      "    0.999868     0.998117   0.991349   0.995925   0.999441 0.997319\n",
      "\n",
      "Accuracy ((TP + TN) / (P + N)): 0.9977253496320472\n",
      " SARS-N2_POS  SARS-N1_POS  IBV-M_POS  RSV-N_POS  IAV-M_POS  MHV_POS\n",
      "    0.999898     0.998467   0.993272   0.997055   0.999594 0.998044\n",
      "\n",
      "F1 (2 * (precision * recall) / (precision + recall)): 0.9958066530955476\n",
      " SARS-N2_POS  SARS-N1_POS  IBV-M_POS  RSV-N_POS  IAV-M_POS  MHV_POS\n",
      "    0.999774     0.996684   0.986125   0.995297   0.999388  0.99654\n",
      "\n",
      "Balanced Accuracy (Specificity + Recall) / 2: 0.9983574151136341\n",
      " SARS-N2_POS  SARS-N1_POS  IBV-M_POS  RSV-N_POS  IAV-M_POS  MHV_POS\n",
      "    0.999934     0.998876   0.995369   0.997737   0.999672 0.998606\n",
      "\n"
     ]
    },
    {
     "ename": "AssertionError",
     "evalue": "",
     "output_type": "error",
     "traceback": [
      "\u001b[0;31m---------------------------------------------------------------------------\u001b[0m",
      "\u001b[0;31mAssertionError\u001b[0m                            Traceback (most recent call last)",
      "\u001b[1;32m/Users/gzoeck/Desktop/ETH/DS Lab/dslab/code/whitness_based/cluster_density_classifier_wa_outlier copy 2.ipynb Cell 9\u001b[0m line \u001b[0;36m1\n\u001b[1;32m     <a href='vscode-notebook-cell:/Users/gzoeck/Desktop/ETH/DS%20Lab/dslab/code/whitness_based/cluster_density_classifier_wa_outlier%20copy%202.ipynb#X11sZmlsZQ%3D%3D?line=12'>13</a>\u001b[0m validation_lib\u001b[39m.\u001b[39mvalidate_labels(df_ground_trouth, decision\u001b[39m.\u001b[39mprobabilities_df, threshold\u001b[39m=\u001b[39m\u001b[39m0.5\u001b[39m)\n\u001b[1;32m     <a href='vscode-notebook-cell:/Users/gzoeck/Desktop/ETH/DS%20Lab/dslab/code/whitness_based/cluster_density_classifier_wa_outlier%20copy%202.ipynb#X11sZmlsZQ%3D%3D?line=14'>15</a>\u001b[0m df_result \u001b[39m=\u001b[39m stats_lib\u001b[39m.\u001b[39mcompute_results(decision\u001b[39m.\u001b[39mprobabilities_df, \u001b[39m0.01\u001b[39m, \u001b[39m0.99\u001b[39m, df_data_points)\n\u001b[0;32m---> <a href='vscode-notebook-cell:/Users/gzoeck/Desktop/ETH/DS%20Lab/dslab/code/whitness_based/cluster_density_classifier_wa_outlier%20copy%202.ipynb#X11sZmlsZQ%3D%3D?line=16'>17</a>\u001b[0m plot_lib\u001b[39m.\u001b[39;49mplot_pairwise_selection_bayesian(\n\u001b[1;32m     <a href='vscode-notebook-cell:/Users/gzoeck/Desktop/ETH/DS%20Lab/dslab/code/whitness_based/cluster_density_classifier_wa_outlier%20copy%202.ipynb#X11sZmlsZQ%3D%3D?line=17'>18</a>\u001b[0m         df_data_points,\n\u001b[1;32m     <a href='vscode-notebook-cell:/Users/gzoeck/Desktop/ETH/DS%20Lab/dslab/code/whitness_based/cluster_density_classifier_wa_outlier%20copy%202.ipynb#X11sZmlsZQ%3D%3D?line=18'>19</a>\u001b[0m         decision\u001b[39m.\u001b[39;49mpredictions_df,\n\u001b[1;32m     <a href='vscode-notebook-cell:/Users/gzoeck/Desktop/ETH/DS%20Lab/dslab/code/whitness_based/cluster_density_classifier_wa_outlier%20copy%202.ipynb#X11sZmlsZQ%3D%3D?line=19'>20</a>\u001b[0m         df_ground_trouth,\n\u001b[1;32m     <a href='vscode-notebook-cell:/Users/gzoeck/Desktop/ETH/DS%20Lab/dslab/code/whitness_based/cluster_density_classifier_wa_outlier%20copy%202.ipynb#X11sZmlsZQ%3D%3D?line=20'>21</a>\u001b[0m         selected_pairs,\n\u001b[1;32m     <a href='vscode-notebook-cell:/Users/gzoeck/Desktop/ETH/DS%20Lab/dslab/code/whitness_based/cluster_density_classifier_wa_outlier%20copy%202.ipynb#X11sZmlsZQ%3D%3D?line=21'>22</a>\u001b[0m         n_cols\u001b[39m=\u001b[39;49m\u001b[39m2\u001b[39;49m,\n\u001b[1;32m     <a href='vscode-notebook-cell:/Users/gzoeck/Desktop/ETH/DS%20Lab/dslab/code/whitness_based/cluster_density_classifier_wa_outlier%20copy%202.ipynb#X11sZmlsZQ%3D%3D?line=22'>23</a>\u001b[0m         mask\u001b[39m=\u001b[39;49mdecision\u001b[39m.\u001b[39;49mNo_neg_mask\n\u001b[1;32m     <a href='vscode-notebook-cell:/Users/gzoeck/Desktop/ETH/DS%20Lab/dslab/code/whitness_based/cluster_density_classifier_wa_outlier%20copy%202.ipynb#X11sZmlsZQ%3D%3D?line=23'>24</a>\u001b[0m         )\n",
      "File \u001b[0;32m~/Desktop/ETH/DS Lab/dslab/code/whitness_based/../libs/plot_lib.py:224\u001b[0m, in \u001b[0;36mplot_pairwise_selection_bayesian\u001b[0;34m(data_points, predictions, ground_trouth, selected_pairs, axis_thresh, n_cols, mask, title, save_path)\u001b[0m\n\u001b[1;32m    209\u001b[0m \u001b[39mdef\u001b[39;00m \u001b[39mplot_pairwise_selection_bayesian\u001b[39m(\n\u001b[1;32m    210\u001b[0m                             data_points : pd\u001b[39m.\u001b[39mDataFrame,\n\u001b[1;32m    211\u001b[0m                             predictions : pd\u001b[39m.\u001b[39mDataFrame,\n\u001b[0;32m   (...)\u001b[0m\n\u001b[1;32m    220\u001b[0m     \n\u001b[1;32m    221\u001b[0m     \u001b[39m# check least requrements\u001b[39;00m\n\u001b[1;32m    222\u001b[0m     \u001b[39mfor\u001b[39;00m (color_one, color_two) \u001b[39min\u001b[39;00m selected_pairs:\n\u001b[0;32m--> 224\u001b[0m         \u001b[39massert\u001b[39;00m color_two \u001b[39min\u001b[39;00m data_points\u001b[39m.\u001b[39mcolumns\n\u001b[1;32m    225\u001b[0m         \u001b[39massert\u001b[39;00m color_one \u001b[39min\u001b[39;00m data_points\u001b[39m.\u001b[39mcolumns\n\u001b[1;32m    227\u001b[0m         \u001b[39massert\u001b[39;00m color_two \u001b[39min\u001b[39;00m predictions\u001b[39m.\u001b[39mcolumns\n",
      "\u001b[0;31mAssertionError\u001b[0m: "
     ]
    }
   ],
   "source": [
    "\n",
    "df_data_points = pd.DataFrame(data=decision.X, columns=prediction_axis) \n",
    "df_predictions = df_decision\n",
    "df_ground_trouth = df_wa\n",
    "selected_pairs = [\n",
    "                ('SARS-N2_POS','SARS-N1_POS'),\n",
    "                ('SARS-N1_POS','SARS-N2_POS'),\n",
    "                ('SARS-N2_POS','RSV-N_POS'),\n",
    "                ('RSV-N_POS','SARS-N2_POS')#,\n",
    "#                ('IAV-M_POS','MHV_POS'),\n",
    "#                ('MHV_POS','IAV-M_POS'),\n",
    "                ]\n",
    "\n",
    "validation_lib.validate_labels(df_ground_trouth, decision.probabilities_df, threshold=0.5)\n",
    "\n",
    "df_result = stats_lib.compute_results(decision.probabilities_df, 0.01, 0.99, df_data_points)\n",
    "\n",
    "plot_lib.plot_pairwise_selection_bayesian(\n",
    "        df_data_points,\n",
    "        decision.predictions_df,\n",
    "        df_ground_trouth,\n",
    "        selected_pairs,\n",
    "        n_cols=2,\n",
    "        mask=decision.No_neg_mask\n",
    "        )"
   ]
  },
  {
   "cell_type": "code",
   "execution_count": 8,
   "metadata": {},
   "outputs": [],
   "source": [
    "df_result.to_csv(\"test_wa.csv\")"
   ]
  },
  {
   "cell_type": "code",
   "execution_count": null,
   "metadata": {},
   "outputs": [],
   "source": []
  }
 ],
 "metadata": {
  "kernelspec": {
   "display_name": "Python 3 (ipykernel)",
   "language": "python",
   "name": "python3"
  },
  "language_info": {
   "codemirror_mode": {
    "name": "ipython",
    "version": 3
   },
   "file_extension": ".py",
   "mimetype": "text/x-python",
   "name": "python",
   "nbconvert_exporter": "python",
   "pygments_lexer": "ipython3",
   "version": "3.11.5"
  }
 },
 "nbformat": 4,
 "nbformat_minor": 4
}
